{
 "cells": [
  {
   "cell_type": "code",
   "execution_count": 1,
   "metadata": {
    "collapsed": true
   },
   "outputs": [],
   "source": [
    "import numpy as np\n",
    "import pandas as pd\n",
    "import matplotlib as mplt\n",
    "import matplotlib.pyplot as plt\n",
    "from matplotlib.pyplot import subplots, show\n",
    "from matplotlib.patches import Polygon\n",
    "%matplotlib inline"
   ]
  },
  {
   "cell_type": "markdown",
   "metadata": {},
   "source": [
    "# Задание № 2 по теме «Задача о распаде разрыва для системы уравнений акустики». Орехов Роман, 471a. Шаблон 2\n",
    "\n",
    "## Задача:\n",
    "\n",
    "Рассматривается задача Коши для одномерной системы уравнений акустики:\n",
    "\n",
    "\\begin{equation} \n",
    "    \\begin{cases} \n",
    "        \\frac{\\partial u}{\\partial t} + \\frac{1}{ \\rho_0} \\frac{\\partial p}{\\partial x} = 0, \n",
    "        \\\\ \n",
    "        \\frac{\\partial p}{\\partial t} + \\rho_0 c_0^2 \\frac{\\partial u}{\\partial x} = 0, \n",
    "    \\end{cases} \n",
    "\\end{equation} \n",
    "\n",
    "\n",
    "\\begin{equation} \n",
    "    u = \n",
    "    \\begin{cases} \n",
    "        u_L , x < 0, \n",
    "        \\\\ \n",
    "        u_R, x > 0 \n",
    "    \\end{cases} \n",
    "\\end{equation} \n",
    "\n",
    "\n",
    "\\begin{equation} \n",
    "    p = \n",
    "       \\begin{cases} \n",
    "        p_L, x < 0, \n",
    "        \\\\ \n",
    "        p_R, x > 0 \n",
    "    \\end{cases} \n",
    "\\end{equation} \n",
    "\n",
    "С параметрами $\\rho_0 = 0.25,\\space c_0 = 2.0,\\space u_L = 1.0,\\space u_R = 0.0,\\space p_L = 5.0,\\space p_R = 2.0$ \n",
    "\n",
    "## Точное решение:\n",
    "\n",
    "\\begin{cases} \n",
    "    u=u_L, \\space p=p_L, если \\space x < x^* -c_0t \n",
    "    \\\\\n",
    "    u=u_R, \\space p=p_R, если \\space x > x^* +c_0t\n",
    "    \\\\\n",
    "    u=\\frac{u_L+u_R}{2} - \\frac{p_R-p_L}{2\\rho_0c_0} = 3.5 \\space\n",
    "    p=\\frac{p_L+p_R}{2} - \\rho_0c_0 \\frac{u_R-u_L}{2} = 3.75,\\space \n",
    "    если \\space x^* - c_0t < x < x^* + c_0t \n",
    "\\end{cases}\n",
    "\n",
    "при $x^* = 0$ \n",
    "\n",
    "## Инварианты:\n",
    "\n",
    "Разделим второе уравнение на $\\rho_0 c_0$, затем сложим с первым и вычтем:\n",
    "\n",
    "\\begin{cases} \n",
    "    \\frac{\\partial Y}{\\partial t}+c_0\\frac{\\partial Y}{\\partial x} = 0, \\space Y = u + \\frac{p}{\\rho_0 c_0}\n",
    "    \\\\\n",
    "    \\frac{\\partial Z}{\\partial t}-c_0\\frac{\\partial Z}{\\partial x} = 0, \\space Z = u - \\frac{p}{\\rho_0 c_0}\n",
    "\\end{cases} \n",
    "\n",
    "Сетка: $ h = 0.01, \\space n_t = 100$\n",
    "\n",
    "## Шаблон:\n",
    "\n",
    "![title](scheme_2.png)"
   ]
  },
  {
   "cell_type": "code",
   "execution_count": 134,
   "metadata": {
    "collapsed": true
   },
   "outputs": [],
   "source": [
    "#params\n",
    "ro_0 = 0.25\n",
    "c_0 = 2.0\n",
    "u_L = 1.0\n",
    "u_R = 0.0\n",
    "p_L = 5.0\n",
    "p_R = 2.0\n",
    "#exact solution in middle area\n",
    "u_mid = (u_L+u_R)/2.0  - (p_R-p_L)/(2.0*ro_0*c_0)\n",
    "p_mid = (p_L+p_R)/2.0  - ro_0*c_0*(u_R-u_L)/2.0\n",
    "\n",
    "#grid\n",
    "lamda = c_0\n",
    "sigma = 0.4\n",
    "step_x = 0.01\n",
    "step_t = sigma*step_x/lamda\n",
    "n_x = 200+1\n",
    "min_x = -(n_x-1)/2 * step_x\n",
    "max_x = (n_x-1)/2 * step_x\n",
    "n_t = 100+1\n",
    "min_t = 0\n",
    "max_t = (n_t-2)*step_t"
   ]
  },
  {
   "cell_type": "code",
   "execution_count": 135,
   "metadata": {
    "collapsed": true
   },
   "outputs": [],
   "source": [
    "#initial conditions\n",
    "x = np.linspace(min_x, max_x, n_x)\n",
    "u_x_0 = [u_L for i in x if (i < 0)] +[0]+ [u_R for i in x if (i > 0)]\n",
    "p_x_0 = [p_L for i in x if (i < 0)] +[0]+ [p_R for i in x if (i > 0)]\n",
    "#u_t_0 = 0"
   ]
  },
  {
   "cell_type": "code",
   "execution_count": 180,
   "metadata": {},
   "outputs": [],
   "source": [
    "#для построения графика\n",
    "t = 100\n",
    "x = np.linspace(min_x, max_x, n_x)\n",
    "# Exact solution\n",
    "u_exact = [u_L for i in x if (round(i, 2) < -c_0*t*step_t)] +[None]+ [u_mid/2.0 for i in x if (-c_0*t*step_t <round(i, 2)< c_0*t*step_t)] +[None]+  [u_R for i in x if (round(i, 2) > c_0*t*step_t)] \n",
    "p_exact = [u_L for i in x if (round(i, 2) < -c_0*t*step_t)] +[None]+ [u_mid/2.0 for i in x if (-c_0*t*step_t <round(i, 2)< c_0*t*step_t)] +[None]+  [u_R for i in x if (round(i, 2) > c_0*t*step_t)] "
   ]
  },
  {
   "cell_type": "code",
   "execution_count": 182,
   "metadata": {
    "collapsed": true
   },
   "outputs": [],
   "source": [
    "# plot drawer\n",
    "def plt_draw(coef):\n",
    "    t = 100\n",
    "    plt.figure(figsize=(10,7))\n",
    "    x = np.linspace(min_x, max_x, n_x)\n",
    "    #y = calc(t,coef)\n",
    "    plt.plot(x, u_exact, label = \"Exact solution\")\n",
    "    #plt.plot(x, y) #, label = \"$ u_m ^{n+1} = %.2f*u_{m-1}^{n+1} + %.2f*u_{m-1}^{n}+ %.2f*u_{m}^{n} + %.2f*u_{m+1}^{n}$\" % (coef[0], coef[1], coef[2], coef[3]))\n",
    "    plt.ylabel(\"t\")\n",
    "    plt.xlabel('x')\n",
    "    plt.legend()\n",
    "    plt.show()"
   ]
  },
  {
   "cell_type": "code",
   "execution_count": 183,
   "metadata": {},
   "outputs": [
    {
     "data": {
      "image/png": "[encoded data removed]",
      "text/plain": [
       "<matplotlib.figure.Figure at 0xe583cc0>"
      ]
     },
     "metadata": {},
     "output_type": "display_data"
    }
   ],
   "source": [
    "plt_draw(0)"
   ]
  },
  {
   "cell_type": "markdown",
   "metadata": {},
   "source": [
    "## Монотонная схема с «минимальной аппроксимационной вязкостью»\n",
    "\n",
    "$u_m ^{n+1} = 0.4 u_{m-1}^{n+1}+ 0.6 u_{m}^{n} $"
   ]
  },
  {
   "cell_type": "code",
   "execution_count": null,
   "metadata": {
    "collapsed": true
   },
   "outputs": [],
   "source": [
    "coef = [0.4, 0, 0.6, 0] "
   ]
  },
  {
   "cell_type": "code",
   "execution_count": null,
   "metadata": {
    "collapsed": true
   },
   "outputs": [],
   "source": []
  },
  {
   "cell_type": "markdown",
   "metadata": {},
   "source": [
    "## Наименее осциллирующая на разрывных решениях схема второго порядка аппроксимации\n",
    "\n",
    "$u_m ^{n+1} = -\\frac{33}{125} u_{m-1}^{n+1} + \\frac{2261}{3125} u_{m-1}^{n} + \\frac{1833}{3125} u_{m}^{n} -  \\frac{144}{3125} u_{m+1}^{n} $"
   ]
  },
  {
   "cell_type": "code",
   "execution_count": null,
   "metadata": {
    "collapsed": true
   },
   "outputs": [],
   "source": [
    "coef = [-33.0/125, 2261.0/3125, 1833.0/3125, -144.0/3125]"
   ]
  },
  {
   "cell_type": "code",
   "execution_count": null,
   "metadata": {
    "collapsed": true
   },
   "outputs": [],
   "source": []
  },
  {
   "cell_type": "markdown",
   "metadata": {},
   "source": [
    "## Гибридная схема, показавшая себя наилучшим образом при выполнении Задания №1\n",
    "\n",
    "Гибридная схема, полученная с одновременным использованием двух схем из пункта (3п), схемы из пункта (4п) и сеточно-характеристического критерия монотонности:\n",
    "\n",
    "\\begin{equation}\n",
    " \\begin{cases}\n",
    "   \\alpha_{-1}^{1} = -{25\\over7}\\alpha_{1}^{0} - {3\\over7}\n",
    "   \\\\\n",
    "   \\alpha_{-1}^{0} = 6\\alpha_{1}^{0}  + 1\n",
    "   \\\\\n",
    "   \\alpha_{0}^{0} = -{24\\over7}\\alpha_{1}^{0} + {3\\over7}\n",
    " \\end{cases}\n",
    "\\end{equation}\n",
    "\n",
    "В точках __ (3/7; 0), (27/35; -0.1) __ и\n",
    "\n",
    "$$ u_m ^{n+1} = -{1\\over 4}u_{m-1}^{n+1} + {7\\over 10}u_{m-1}^{n} + {3\\over 5}u_{0}^{0} -{1\\over 20}u_{m+1}^{n} $$"
   ]
  },
  {
   "cell_type": "code",
   "execution_count": null,
   "metadata": {
    "collapsed": true
   },
   "outputs": [],
   "source": [
    "coef = [[-1.0/4, 0.7, 0.6, -1.0/20], [-3.0/7, 1.0, 3.0/7, 0], [-1.0/14, 2.0/5, 27.0/35, -0.1]]"
   ]
  },
  {
   "cell_type": "code",
   "execution_count": null,
   "metadata": {
    "collapsed": true
   },
   "outputs": [],
   "source": []
  },
  {
   "cell_type": "code",
   "execution_count": null,
   "metadata": {
    "collapsed": true
   },
   "outputs": [],
   "source": []
  }
 ],
 "metadata": {
  "kernelspec": {
   "display_name": "Python 2",
   "language": "python",
   "name": "python2"
  },
  "language_info": {
   "codemirror_mode": {
    "name": "ipython",
    "version": 2
   },
   "file_extension": ".py",
   "mimetype": "text/x-python",
   "name": "python",
   "nbconvert_exporter": "python",
   "pygments_lexer": "ipython2",
   "version": "2.7.14"
  }
 },
 "nbformat": 4,
 "nbformat_minor": 2
}
